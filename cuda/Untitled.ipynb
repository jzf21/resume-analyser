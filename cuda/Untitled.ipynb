{
 "cells": [
  {
   "cell_type": "code",
   "execution_count": 2,
   "id": "02b71782-8082-47e3-8387-d194c6c77929",
   "metadata": {},
   "outputs": [
    {
     "name": "stdout",
     "output_type": "stream",
     "text": [
      "Requirement already satisfied: pdfminer3 in c:\\users\\jozef\\resume-analyser\\cuda\\lib\\site-packages (from -r requirements.txt (line 1)) (2018.12.3.0)\n",
      "Requirement already satisfied: pyresparser in c:\\users\\jozef\\resume-analyser\\cuda\\lib\\site-packages (from -r requirements.txt (line 2)) (1.0.6)\n",
      "Requirement already satisfied: streamlit in c:\\users\\jozef\\resume-analyser\\cuda\\lib\\site-packages (from -r requirements.txt (line 3)) (1.32.2)\n",
      "Requirement already satisfied: pandas in c:\\users\\jozef\\resume-analyser\\cuda\\lib\\site-packages (from -r requirements.txt (line 4)) (2.2.1)\n",
      "Requirement already satisfied: pafy in c:\\users\\jozef\\resume-analyser\\cuda\\lib\\site-packages (from -r requirements.txt (line 5)) (0.5.5)\n",
      "Requirement already satisfied: plotly in c:\\users\\jozef\\resume-analyser\\cuda\\lib\\site-packages (from -r requirements.txt (line 6)) (5.20.0)\n",
      "Requirement already satisfied: pymysql in c:\\users\\jozef\\resume-analyser\\cuda\\lib\\site-packages (from -r requirements.txt (line 7)) (1.1.0)\n",
      "Requirement already satisfied: streamlit-tags in c:\\users\\jozef\\resume-analyser\\cuda\\lib\\site-packages (from -r requirements.txt (line 8)) (1.2.8)\n",
      "Requirement already satisfied: Pillow in c:\\users\\jozef\\resume-analyser\\cuda\\lib\\site-packages (from -r requirements.txt (line 9)) (10.2.0)\n",
      "Requirement already satisfied: pycryptodome in c:\\users\\jozef\\resume-analyser\\cuda\\lib\\site-packages (from pdfminer3->-r requirements.txt (line 1)) (3.20.0)\n",
      "Requirement already satisfied: sortedcontainers in c:\\users\\jozef\\resume-analyser\\cuda\\lib\\site-packages (from pdfminer3->-r requirements.txt (line 1)) (2.4.0)\n",
      "Requirement already satisfied: chardet in c:\\users\\jozef\\resume-analyser\\cuda\\lib\\site-packages (from pdfminer3->-r requirements.txt (line 1)) (5.2.0)\n",
      "Requirement already satisfied: attrs>=19.1.0 in c:\\users\\jozef\\resume-analyser\\cuda\\lib\\site-packages (from pyresparser->-r requirements.txt (line 2)) (23.2.0)\n",
      "Requirement already satisfied: blis>=0.2.4 in c:\\users\\jozef\\resume-analyser\\cuda\\lib\\site-packages (from pyresparser->-r requirements.txt (line 2)) (0.7.11)\n",
      "Requirement already satisfied: certifi>=2019.6.16 in c:\\users\\jozef\\resume-analyser\\cuda\\lib\\site-packages (from pyresparser->-r requirements.txt (line 2)) (2024.2.2)\n",
      "Requirement already satisfied: cymem>=2.0.2 in c:\\users\\jozef\\resume-analyser\\cuda\\lib\\site-packages (from pyresparser->-r requirements.txt (line 2)) (2.0.8)\n",
      "Requirement already satisfied: docx2txt>=0.7 in c:\\users\\jozef\\resume-analyser\\cuda\\lib\\site-packages (from pyresparser->-r requirements.txt (line 2)) (0.8)\n",
      "Requirement already satisfied: idna>=2.8 in c:\\users\\jozef\\resume-analyser\\cuda\\lib\\site-packages (from pyresparser->-r requirements.txt (line 2)) (3.6)\n",
      "Requirement already satisfied: jsonschema>=3.0.1 in c:\\users\\jozef\\resume-analyser\\cuda\\lib\\site-packages (from pyresparser->-r requirements.txt (line 2)) (4.21.1)\n",
      "Requirement already satisfied: nltk>=3.4.3 in c:\\users\\jozef\\resume-analyser\\cuda\\lib\\site-packages (from pyresparser->-r requirements.txt (line 2)) (3.8.1)\n",
      "Requirement already satisfied: numpy>=1.16.4 in c:\\users\\jozef\\resume-analyser\\cuda\\lib\\site-packages (from pyresparser->-r requirements.txt (line 2)) (1.26.4)\n",
      "Requirement already satisfied: pdfminer.six>=20181108 in c:\\users\\jozef\\resume-analyser\\cuda\\lib\\site-packages (from pyresparser->-r requirements.txt (line 2)) (20231228)\n",
      "Requirement already satisfied: preshed>=2.0.1 in c:\\users\\jozef\\resume-analyser\\cuda\\lib\\site-packages (from pyresparser->-r requirements.txt (line 2)) (3.0.9)\n",
      "Requirement already satisfied: pyrsistent>=0.15.2 in c:\\users\\jozef\\resume-analyser\\cuda\\lib\\site-packages (from pyresparser->-r requirements.txt (line 2)) (0.20.0)\n",
      "Requirement already satisfied: python-dateutil>=2.8.0 in c:\\users\\jozef\\resume-analyser\\cuda\\lib\\site-packages (from pyresparser->-r requirements.txt (line 2)) (2.9.0.post0)\n",
      "Requirement already satisfied: pytz>=2019.1 in c:\\users\\jozef\\resume-analyser\\cuda\\lib\\site-packages (from pyresparser->-r requirements.txt (line 2)) (2024.1)\n",
      "Requirement already satisfied: requests>=2.22.0 in c:\\users\\jozef\\resume-analyser\\cuda\\lib\\site-packages (from pyresparser->-r requirements.txt (line 2)) (2.31.0)\n",
      "Requirement already satisfied: six>=1.12.0 in c:\\users\\jozef\\resume-analyser\\cuda\\lib\\site-packages (from pyresparser->-r requirements.txt (line 2)) (1.16.0)\n",
      "Requirement already satisfied: spacy>=2.1.4 in c:\\users\\jozef\\resume-analyser\\cuda\\lib\\site-packages (from pyresparser->-r requirements.txt (line 2)) (3.7.4)\n",
      "Requirement already satisfied: srsly>=0.0.7 in c:\\users\\jozef\\resume-analyser\\cuda\\lib\\site-packages (from pyresparser->-r requirements.txt (line 2)) (2.4.8)\n",
      "Requirement already satisfied: thinc>=7.0.4 in c:\\users\\jozef\\resume-analyser\\cuda\\lib\\site-packages (from pyresparser->-r requirements.txt (line 2)) (8.2.3)\n",
      "Requirement already satisfied: tqdm>=4.32.2 in c:\\users\\jozef\\resume-analyser\\cuda\\lib\\site-packages (from pyresparser->-r requirements.txt (line 2)) (4.66.2)\n",
      "Requirement already satisfied: urllib3>=1.25.3 in c:\\users\\jozef\\resume-analyser\\cuda\\lib\\site-packages (from pyresparser->-r requirements.txt (line 2)) (2.2.1)\n",
      "Requirement already satisfied: wasabi>=0.2.2 in c:\\users\\jozef\\resume-analyser\\cuda\\lib\\site-packages (from pyresparser->-r requirements.txt (line 2)) (1.1.2)\n",
      "Requirement already satisfied: altair<6,>=4.0 in c:\\users\\jozef\\resume-analyser\\cuda\\lib\\site-packages (from streamlit->-r requirements.txt (line 3)) (5.2.0)\n",
      "Requirement already satisfied: blinker<2,>=1.0.0 in c:\\users\\jozef\\resume-analyser\\cuda\\lib\\site-packages (from streamlit->-r requirements.txt (line 3)) (1.7.0)\n",
      "Requirement already satisfied: cachetools<6,>=4.0 in c:\\users\\jozef\\resume-analyser\\cuda\\lib\\site-packages (from streamlit->-r requirements.txt (line 3)) (5.3.3)\n",
      "Requirement already satisfied: click<9,>=7.0 in c:\\users\\jozef\\resume-analyser\\cuda\\lib\\site-packages (from streamlit->-r requirements.txt (line 3)) (8.1.7)\n",
      "Requirement already satisfied: packaging<24,>=16.8 in c:\\users\\jozef\\resume-analyser\\cuda\\lib\\site-packages (from streamlit->-r requirements.txt (line 3)) (23.2)\n",
      "Requirement already satisfied: protobuf<5,>=3.20 in c:\\users\\jozef\\resume-analyser\\cuda\\lib\\site-packages (from streamlit->-r requirements.txt (line 3)) (4.25.3)\n",
      "Requirement already satisfied: pyarrow>=7.0 in c:\\users\\jozef\\resume-analyser\\cuda\\lib\\site-packages (from streamlit->-r requirements.txt (line 3)) (15.0.2)\n",
      "Requirement already satisfied: rich<14,>=10.14.0 in c:\\users\\jozef\\resume-analyser\\cuda\\lib\\site-packages (from streamlit->-r requirements.txt (line 3)) (13.7.1)\n",
      "Requirement already satisfied: tenacity<9,>=8.1.0 in c:\\users\\jozef\\resume-analyser\\cuda\\lib\\site-packages (from streamlit->-r requirements.txt (line 3)) (8.2.3)\n",
      "Requirement already satisfied: toml<2,>=0.10.1 in c:\\users\\jozef\\resume-analyser\\cuda\\lib\\site-packages (from streamlit->-r requirements.txt (line 3)) (0.10.2)\n",
      "Requirement already satisfied: typing-extensions<5,>=4.3.0 in c:\\users\\jozef\\resume-analyser\\cuda\\lib\\site-packages (from streamlit->-r requirements.txt (line 3)) (4.10.0)\n",
      "Requirement already satisfied: gitpython!=3.1.19,<4,>=3.0.7 in c:\\users\\jozef\\resume-analyser\\cuda\\lib\\site-packages (from streamlit->-r requirements.txt (line 3)) (3.1.42)\n",
      "Requirement already satisfied: pydeck<1,>=0.8.0b4 in c:\\users\\jozef\\resume-analyser\\cuda\\lib\\site-packages (from streamlit->-r requirements.txt (line 3)) (0.8.1b0)\n",
      "Requirement already satisfied: tornado<7,>=6.0.3 in c:\\users\\jozef\\resume-analyser\\cuda\\lib\\site-packages (from streamlit->-r requirements.txt (line 3)) (6.4)\n",
      "Requirement already satisfied: watchdog>=2.1.5 in c:\\users\\jozef\\resume-analyser\\cuda\\lib\\site-packages (from streamlit->-r requirements.txt (line 3)) (4.0.0)\n",
      "Requirement already satisfied: tzdata>=2022.7 in c:\\users\\jozef\\resume-analyser\\cuda\\lib\\site-packages (from pandas->-r requirements.txt (line 4)) (2024.1)\n",
      "Requirement already satisfied: jinja2 in c:\\users\\jozef\\resume-analyser\\cuda\\lib\\site-packages (from altair<6,>=4.0->streamlit->-r requirements.txt (line 3)) (3.1.3)\n",
      "Requirement already satisfied: toolz in c:\\users\\jozef\\resume-analyser\\cuda\\lib\\site-packages (from altair<6,>=4.0->streamlit->-r requirements.txt (line 3)) (0.12.1)\n",
      "Requirement already satisfied: colorama in c:\\users\\jozef\\resume-analyser\\cuda\\lib\\site-packages (from click<9,>=7.0->streamlit->-r requirements.txt (line 3)) (0.4.6)\n",
      "Requirement already satisfied: gitdb<5,>=4.0.1 in c:\\users\\jozef\\resume-analyser\\cuda\\lib\\site-packages (from gitpython!=3.1.19,<4,>=3.0.7->streamlit->-r requirements.txt (line 3)) (4.0.11)\n",
      "Requirement already satisfied: jsonschema-specifications>=2023.03.6 in c:\\users\\jozef\\resume-analyser\\cuda\\lib\\site-packages (from jsonschema>=3.0.1->pyresparser->-r requirements.txt (line 2)) (2023.12.1)\n",
      "Requirement already satisfied: referencing>=0.28.4 in c:\\users\\jozef\\resume-analyser\\cuda\\lib\\site-packages (from jsonschema>=3.0.1->pyresparser->-r requirements.txt (line 2)) (0.34.0)\n",
      "Requirement already satisfied: rpds-py>=0.7.1 in c:\\users\\jozef\\resume-analyser\\cuda\\lib\\site-packages (from jsonschema>=3.0.1->pyresparser->-r requirements.txt (line 2)) (0.18.0)\n",
      "Requirement already satisfied: joblib in c:\\users\\jozef\\resume-analyser\\cuda\\lib\\site-packages (from nltk>=3.4.3->pyresparser->-r requirements.txt (line 2)) (1.3.2)\n",
      "Requirement already satisfied: regex>=2021.8.3 in c:\\users\\jozef\\resume-analyser\\cuda\\lib\\site-packages (from nltk>=3.4.3->pyresparser->-r requirements.txt (line 2)) (2023.12.25)\n",
      "Requirement already satisfied: charset-normalizer>=2.0.0 in c:\\users\\jozef\\resume-analyser\\cuda\\lib\\site-packages (from pdfminer.six>=20181108->pyresparser->-r requirements.txt (line 2)) (3.3.2)\n",
      "Requirement already satisfied: cryptography>=36.0.0 in c:\\users\\jozef\\resume-analyser\\cuda\\lib\\site-packages (from pdfminer.six>=20181108->pyresparser->-r requirements.txt (line 2)) (42.0.5)\n",
      "Requirement already satisfied: murmurhash<1.1.0,>=0.28.0 in c:\\users\\jozef\\resume-analyser\\cuda\\lib\\site-packages (from preshed>=2.0.1->pyresparser->-r requirements.txt (line 2)) (1.0.10)\n",
      "Requirement already satisfied: markdown-it-py>=2.2.0 in c:\\users\\jozef\\resume-analyser\\cuda\\lib\\site-packages (from rich<14,>=10.14.0->streamlit->-r requirements.txt (line 3)) (3.0.0)\n",
      "Requirement already satisfied: pygments<3.0.0,>=2.13.0 in c:\\users\\jozef\\resume-analyser\\cuda\\lib\\site-packages (from rich<14,>=10.14.0->streamlit->-r requirements.txt (line 3)) (2.17.2)\n",
      "Requirement already satisfied: spacy-legacy<3.1.0,>=3.0.11 in c:\\users\\jozef\\resume-analyser\\cuda\\lib\\site-packages (from spacy>=2.1.4->pyresparser->-r requirements.txt (line 2)) (3.0.12)\n",
      "Requirement already satisfied: spacy-loggers<2.0.0,>=1.0.0 in c:\\users\\jozef\\resume-analyser\\cuda\\lib\\site-packages (from spacy>=2.1.4->pyresparser->-r requirements.txt (line 2)) (1.0.5)\n",
      "Requirement already satisfied: catalogue<2.1.0,>=2.0.6 in c:\\users\\jozef\\resume-analyser\\cuda\\lib\\site-packages (from spacy>=2.1.4->pyresparser->-r requirements.txt (line 2)) (2.0.10)\n",
      "Requirement already satisfied: weasel<0.4.0,>=0.1.0 in c:\\users\\jozef\\resume-analyser\\cuda\\lib\\site-packages (from spacy>=2.1.4->pyresparser->-r requirements.txt (line 2)) (0.3.4)\n",
      "Requirement already satisfied: typer<0.10.0,>=0.3.0 in c:\\users\\jozef\\resume-analyser\\cuda\\lib\\site-packages (from spacy>=2.1.4->pyresparser->-r requirements.txt (line 2)) (0.9.4)\n",
      "Requirement already satisfied: smart-open<7.0.0,>=5.2.1 in c:\\users\\jozef\\resume-analyser\\cuda\\lib\\site-packages (from spacy>=2.1.4->pyresparser->-r requirements.txt (line 2)) (6.4.0)\n",
      "Requirement already satisfied: pydantic!=1.8,!=1.8.1,<3.0.0,>=1.7.4 in c:\\users\\jozef\\resume-analyser\\cuda\\lib\\site-packages (from spacy>=2.1.4->pyresparser->-r requirements.txt (line 2)) (2.6.4)\n",
      "Requirement already satisfied: setuptools in c:\\users\\jozef\\resume-analyser\\cuda\\lib\\site-packages (from spacy>=2.1.4->pyresparser->-r requirements.txt (line 2)) (65.5.0)\n",
      "Requirement already satisfied: langcodes<4.0.0,>=3.2.0 in c:\\users\\jozef\\resume-analyser\\cuda\\lib\\site-packages (from spacy>=2.1.4->pyresparser->-r requirements.txt (line 2)) (3.3.0)\n",
      "Requirement already satisfied: confection<1.0.0,>=0.0.1 in c:\\users\\jozef\\resume-analyser\\cuda\\lib\\site-packages (from thinc>=7.0.4->pyresparser->-r requirements.txt (line 2)) (0.1.4)\n",
      "Requirement already satisfied: cffi>=1.12 in c:\\users\\jozef\\resume-analyser\\cuda\\lib\\site-packages (from cryptography>=36.0.0->pdfminer.six>=20181108->pyresparser->-r requirements.txt (line 2)) (1.16.0)\n",
      "Requirement already satisfied: smmap<6,>=3.0.1 in c:\\users\\jozef\\resume-analyser\\cuda\\lib\\site-packages (from gitdb<5,>=4.0.1->gitpython!=3.1.19,<4,>=3.0.7->streamlit->-r requirements.txt (line 3)) (5.0.1)\n",
      "Requirement already satisfied: MarkupSafe>=2.0 in c:\\users\\jozef\\resume-analyser\\cuda\\lib\\site-packages (from jinja2->altair<6,>=4.0->streamlit->-r requirements.txt (line 3)) (2.1.5)\n",
      "Requirement already satisfied: mdurl~=0.1 in c:\\users\\jozef\\resume-analyser\\cuda\\lib\\site-packages (from markdown-it-py>=2.2.0->rich<14,>=10.14.0->streamlit->-r requirements.txt (line 3)) (0.1.2)\n",
      "Requirement already satisfied: annotated-types>=0.4.0 in c:\\users\\jozef\\resume-analyser\\cuda\\lib\\site-packages (from pydantic!=1.8,!=1.8.1,<3.0.0,>=1.7.4->spacy>=2.1.4->pyresparser->-r requirements.txt (line 2)) (0.6.0)\n",
      "Requirement already satisfied: pydantic-core==2.16.3 in c:\\users\\jozef\\resume-analyser\\cuda\\lib\\site-packages (from pydantic!=1.8,!=1.8.1,<3.0.0,>=1.7.4->spacy>=2.1.4->pyresparser->-r requirements.txt (line 2)) (2.16.3)\n",
      "Requirement already satisfied: cloudpathlib<0.17.0,>=0.7.0 in c:\\users\\jozef\\resume-analyser\\cuda\\lib\\site-packages (from weasel<0.4.0,>=0.1.0->spacy>=2.1.4->pyresparser->-r requirements.txt (line 2)) (0.16.0)\n",
      "Requirement already satisfied: pycparser in c:\\users\\jozef\\resume-analyser\\cuda\\lib\\site-packages (from cffi>=1.12->cryptography>=36.0.0->pdfminer.six>=20181108->pyresparser->-r requirements.txt (line 2)) (2.21)\n",
      "Note: you may need to restart the kernel to use updated packages.\n"
     ]
    }
   ],
   "source": [
    "pip install -r requirements.txt\n"
   ]
  },
  {
   "cell_type": "code",
   "execution_count": 1,
   "id": "1ffb9bc9-7400-4b7d-815a-74a2da1426ed",
   "metadata": {},
   "outputs": [
    {
     "name": "stdout",
     "output_type": "stream",
     "text": [
      "Requirement already satisfied: docx2txt in c:\\users\\jozef\\resume-analyser\\cuda\\lib\\site-packages (0.8)\n",
      "Note: you may need to restart the kernel to use updated packages.\n"
     ]
    }
   ],
   "source": [
    "pip install docx2txt"
   ]
  },
  {
   "cell_type": "code",
   "execution_count": 27,
   "id": "a3d8419f-5eb4-4737-af66-1ce32c9c9b0e",
   "metadata": {},
   "outputs": [
    {
     "name": "stdout",
     "output_type": "stream",
     "text": [
      "JOZEF ANTONY NEELAMKAVIL\n",
      "\n",
      "jozefneelamkavil2003@gmail.com | +91 9562431225 | LinkedIn | GitHub | jozef.com\n",
      "\n",
      "Education\n",
      "\n",
      "Govt. Model Engineering College\t\t\t\t                         Nov 2021 – April 2025 (Expected)\n",
      "\n",
      "Bachelor of Technology  Computer Science and Engineering\t\t\t\t              CGPA: 8.1\n",
      "\n",
      "Relevant Coursework: Data Structures in C, Object Oriented Programming in Java, Logic System Design, Discrete Mathematical Structures, Operating Systems, Database Management Systems, Graph Theory, Computer Organization and Architecture,Microprocessors and Microcontrollers\n",
      "\n",
      "Skills\n",
      "\n",
      "Languages/Frameworks: JavaScript, Python, TypeScript, C, Express, NextJS, React, NodeJS, SQL\n",
      "\n",
      "Technologies: Git, GitHub, Postgres, MongoDB, Postman, Linux, Full-Stack Development, Azure, NGINX, OpenAI \n",
      "\n",
      "Soft Skills: Communication, Critical Thinking, Adaptability, Teamwork , Collaboration, Leadership\n",
      "\n",
      "Projects\n",
      "\n",
      "Techno Event Management – An Easy Way to Manage Participants and Volunteers                        Project Link\n",
      "\n",
      "An open-source project built using Nextjs, Express and Postgres.\n",
      "\n",
      "An easy way to manage registrations and keep track of the participants by integrating a QR based checkin system.\n",
      "\n",
      "Has handled over 3 different events with over 100 participants.\n",
      "\n",
      "Xpense – Finance Tracker\t\t\t\t\t\t\t                                     Project Link\n",
      "\n",
      "Full-Stack application built with Postgres, Express, React and TailwindCSS to track finances and split expenses among friends\n",
      "\n",
      "Made use of Turborepo to handle the code for all the required microservices in a monorepo\n",
      "\n",
      "Collaber –Collaborative Whiteboard with chat\t\t\t\t\t\t            Project Link\n",
      "\n",
      "Collaborative whiteboard app built with React, Express and Socket.io \n",
      "\n",
      "Ability to create game rooms to collaborate with friends in real-time and see their stats and progress \n",
      "\n",
      "Ecommerce Website : A seller dashboard included Ecommerce Site                                                     Project Link\n",
      "\n",
      "Developed a user-friendly Ecommerce Site with responsive design, intuitive navigation, and efficient search functionalities.\n",
      "\n",
      "Integrated a Seller Dashboard allowing sellers to manage products, orders, payments, and analytics.\n",
      "\n",
      "Extra-Curriculars\n",
      "\n",
      "FOSS MEC– Tech  Lead\n",
      "\n",
      "I manage a team of 30+ student developers who build and manage applications for the Free and Open-Source club of the college\n",
      "\n",
      "Built a full stack application to manage the status of 350+ attendees during events and successfully helped event organizers reduce manual work during 4+ events\n",
      "\n",
      "Currently working on an opensource iteration of this event management application with more features such as attendees’ team management, event registrations including payments, etc.\n",
      "\n",
      "Took a session on HacktoberFest for 60+ students and helped them gain their first Open-Source Contribution.\n",
      "\n",
      "Developed a website for Debutsav Kochi 2023 held at our college which handled registrations.\n",
      "\n",
      "MACS MEC\n",
      "\n",
      "As an active member of Computer Science club of the college, I build and manage websites, applications and CMSs for the college\n",
      "\n",
      "Migrated image storage from cloudinary to Minio for the college website.\n",
      "\n",
      "Taught 25+ high school students basic web development and Python Programming during summer vacation bootcamps\n",
      "\n",
      "Hackathons\n",
      "\n",
      "Define Hack – Best Software Hack\n",
      "\n",
      "Built a full-stack web application to help orphanages and geriatric care homes acquire food through donations\n",
      "\n",
      "Used React, Express and MongoDB and secured the prize for having the best software implementation\n"
     ]
    }
   ],
   "source": [
    "import docx2txt\n",
    "resume=docx2txt.process(\"Resume-NonMEC.docx\")\n",
    "job_description=docx2txt.process(\"job_description.docx\")\n",
    "print(resume)"
   ]
  },
  {
   "cell_type": "code",
   "execution_count": 30,
   "id": "1ea44bd7-212e-49bd-8eab-b9bee7a51f14",
   "metadata": {},
   "outputs": [],
   "source": [
    "text=[resume,job_description]"
   ]
  },
  {
   "cell_type": "raw",
   "id": "4bfa33ec-7f70-4677-836c-e114b1d5fa27",
   "metadata": {},
   "source": [
    "from sklearn.feature_extraction.text import CountVectorizer\n",
    "cv=CountVectorizer()\n",
    "count_matrix=cv.fit_transform(text)"
   ]
  },
  {
   "cell_type": "code",
   "execution_count": 29,
   "id": "aceb3b1c-b1ef-468d-b9d3-5da2e030a159",
   "metadata": {},
   "outputs": [],
   "source": [
    "from sklearn.metrics.pairwise import cosine_similarity"
   ]
  },
  {
   "cell_type": "code",
   "execution_count": 31,
   "id": "6f260a0a-6493-441b-ab51-a664acdb9b41",
   "metadata": {},
   "outputs": [
    {
     "name": "stdout",
     "output_type": "stream",
     "text": [
      "[[1.         0.54465818]\n",
      " [0.54465818 1.        ]]\n"
     ]
    }
   ],
   "source": [
    "from sklearn.feature_extraction.text import CountVectorizer\n",
    "cv=CountVectorizer()\n",
    "count_matrix=cv.fit_transform(text)\n",
    "print(cosine_similarity(count_matrix))"
   ]
  },
  {
   "cell_type": "code",
   "execution_count": 32,
   "id": "6b40b229-4cc9-4273-b30a-8ef5df098ade",
   "metadata": {},
   "outputs": [
    {
     "name": "stdout",
     "output_type": "stream",
     "text": [
      "54.46581833908814\n"
     ]
    }
   ],
   "source": [
    "match_percentage=cosine_similarity(count_matrix)[0][1]*100\n",
    "print(match_percentage)"
   ]
  },
  {
   "cell_type": "code",
   "execution_count": null,
   "id": "e238999a-c21c-4225-80d4-9aa442e71199",
   "metadata": {},
   "outputs": [],
   "source": []
  }
 ],
 "metadata": {
  "kernelspec": {
   "display_name": "Python 3 (ipykernel)",
   "language": "python",
   "name": "python3"
  },
  "language_info": {
   "codemirror_mode": {
    "name": "ipython",
    "version": 3
   },
   "file_extension": ".py",
   "mimetype": "text/x-python",
   "name": "python",
   "nbconvert_exporter": "python",
   "pygments_lexer": "ipython3",
   "version": "3.11.8"
  }
 },
 "nbformat": 4,
 "nbformat_minor": 5
}
